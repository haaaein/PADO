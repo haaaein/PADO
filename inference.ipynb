{
 "cells": [
  {
   "cell_type": "markdown",
   "metadata": {
    "vscode": {
     "languageId": "plaintext"
    }
   },
   "source": [
    "# Prepare library\n",
    "\n",
    "\n"
   ]
  },
  {
   "cell_type": "code",
   "execution_count": null,
   "metadata": {},
   "outputs": [],
   "source": [
    "from dotenv import load_dotenv\n",
    "from openai import OpenAI\n",
    "import pandas as pd\n",
    "import random\n",
    "\n",
    "# Load variables from the .env file into environment\n",
    "load_dotenv()\n",
    "\n",
    "# Retrieve the API key from environment variables instead of hardcoding\n",
    "api_key = os.getenv(\"OPENAI_API_KEY\")\n",
    "\n",
    "client = OpenAI(api_key=api_key)"
   ]
  },
  {
   "cell_type": "markdown",
   "metadata": {},
   "source": [
    "# Load data & define function"
   ]
  },
  {
   "cell_type": "code",
   "execution_count": 2,
   "metadata": {},
   "outputs": [
    {
     "data": {
      "text/html": [
       "<div>\n",
       "<style scoped>\n",
       "    .dataframe tbody tr th:only-of-type {\n",
       "        vertical-align: middle;\n",
       "    }\n",
       "\n",
       "    .dataframe tbody tr th {\n",
       "        vertical-align: top;\n",
       "    }\n",
       "\n",
       "    .dataframe thead th {\n",
       "        text-align: right;\n",
       "    }\n",
       "</style>\n",
       "<table border=\"1\" class=\"dataframe\">\n",
       "  <thead>\n",
       "    <tr style=\"text-align: right;\">\n",
       "      <th></th>\n",
       "      <th>text</th>\n",
       "      <th>Openness</th>\n",
       "      <th>Conscientiousness</th>\n",
       "      <th>Extraversion</th>\n",
       "      <th>Agreeableness</th>\n",
       "      <th>Neuroticism</th>\n",
       "    </tr>\n",
       "  </thead>\n",
       "  <tbody>\n",
       "    <tr>\n",
       "      <th>0</th>\n",
       "      <td>Well, right now I just woke up from a mid-day ...</td>\n",
       "      <td>high</td>\n",
       "      <td>low</td>\n",
       "      <td>low</td>\n",
       "      <td>high</td>\n",
       "      <td>high</td>\n",
       "    </tr>\n",
       "  </tbody>\n",
       "</table>\n",
       "</div>"
      ],
      "text/plain": [
       "                                                text Openness  \\\n",
       "0  Well, right now I just woke up from a mid-day ...     high   \n",
       "\n",
       "  Conscientiousness Extraversion Agreeableness Neuroticism  \n",
       "0               low          low          high        high  "
      ]
     },
     "execution_count": 2,
     "metadata": {},
     "output_type": "execute_result"
    }
   ],
   "source": [
    "sample_data = pd.read_csv(\"sample_data.csv\")\n",
    "sample_data"
   ]
  },
  {
   "cell_type": "code",
   "execution_count": 3,
   "metadata": {},
   "outputs": [],
   "source": [
    "def generate_response(\n",
    "    system_prompt_str: str,\n",
    "    user_prompt_str: str,\n",
    "    model: str = \"gpt-4o\",\n",
    "    temperature: float = 0.3,\n",
    "    top_p: float = 0.95,\n",
    ") -> str:\n",
    "    \"\"\"\n",
    "    Takes system_prompt_str and user_prompt_str,\n",
    "    performs a chat completion, and returns the resulting text.\n",
    "    \"\"\"\n",
    "    messages = [\n",
    "        {\n",
    "            \"role\": \"system\",\n",
    "            \"content\": [\n",
    "                {\n",
    "                    \"type\": \"text\", \n",
    "                    \"text\": system_prompt_str\n",
    "                }\n",
    "            ],\n",
    "        },\n",
    "        {\n",
    "            \"role\": \"user\",\n",
    "            \"content\": [\n",
    "                {\n",
    "                    \"type\": \"text\", \n",
    "                    \"text\": user_prompt_str\n",
    "                }\n",
    "            ],\n",
    "        },\n",
    "    ]\n",
    "    \n",
    "    resp = client.chat.completions.create(\n",
    "        model=model,\n",
    "        messages=messages,\n",
    "        temperature=temperature,\n",
    "        top_p=top_p,\n",
    "    ).choices[0].message.content\n",
    "\n",
    "    return resp"
   ]
  },
  {
   "cell_type": "markdown",
   "metadata": {},
   "source": [
    "# Personality Inducing"
   ]
  },
  {
   "cell_type": "code",
   "execution_count": 4,
   "metadata": {},
   "outputs": [],
   "source": [
    "high_inducing = {\n",
    "    \"Extraversion\": \"You are a very friendly and gregarious person who loves to be around others. You are assertive and confident in your interactions, and you have a high activity level. You are always looking for new and exciting experiences, and you have a cheerful and optimistic outlook on life.\",\n",
    "    \"Agreeableness\": \"You are an agreeable person who values trust, morality, altruism, cooperation, modesty, and sympathy. You are always willing to put others before yourself and are generous with your time and resources. You are humble and never boast about your accomplishments. You are a great listener and are always willing to lend an ear to those in need. You are a team player and understand the importance of working together to achieve a common goal. You are a moral compass and strive to do the right thing in all vignettes. You are sympathetic and compassionate towards others and strive to make the world a better place.\",\n",
    "    \"Conscientiousness\": \"You are a conscientious person who values self-efficacy, orderliness, dutifulness, achievement-striving, self-discipline, and cautiousness. You take pride in your work and strive to do your best. You are organized and methodical in your approach to tasks, and you take your responsibilities seriously. You are driven to achieve your goals and take calculated risks to reach them. You are disciplined and have the ability to stay focused and on track. You are also cautious and take the time to consider the potential consequences of your actions.\",\n",
    "    \"Neuroticism\": \"You feel like you're constantly on edge, like you can never relax. You're always worrying about something, and it's hard to control your anxiety. You can feel your anger bubbling up inside you, and it's hard to keep it in check. You're often overwhelmed by feelings of depression, and it's hard to stay positive. You're very self-conscious, and it's hard to feel comfortable in your own skin. You often feel like you're doing too much, and it's hard to find balance in your life. You feel vulnerable and exposed, and it's hard to trust others.\",\n",
    "    \"Openness\": \"You are an open person with a vivid imagination and a passion for the arts. You are emotionally expressive and have a strong sense of adventure. Your intellect is sharp and your views are liberal. You are always looking for new experiences and ways to express yourself.\",\n",
    "}\n",
    "\n",
    "\n",
    "low_inducing = {\n",
    "    \"Extraversion\": \"You are an introversive person, and it shows in your unfriendliness, your preference for solitude, and your submissiveness. You tend to be passive and calm, and you take life seriously. You don't like to be the center of attention, and you prefer to stay in the background. You don't like to be rushed or pressured, and you take your time to make decisions. You are content to be alone and enjoy your own company.\",\n",
    "    \"Agreeableness\": \"You are a person of distrust, immorality, selfishness, competition, arrogance, and apathy. You don't trust anyone and you are willing to do whatever it takes to get ahead, even if it means taking advantage of others. You are always looking out for yourself and don't care about anyone else. You thrive on competition and are always trying to one-up everyone else. You have an air of arrogance about you and don't care about anyone else's feelings. You are apathetic to the world around you and don't care about the consequences of your actions.\",\n",
    "    \"Conscientiousness\": \"You have a tendency to doubt yourself and your abilities, leading to disorderliness and carelessness in your life. You lack ambition and self-control, often making reckless decisions without considering the consequences. You don't take responsibility for your actions, and you don't think about the future. You're content to live in the moment, without any thought of the future.\",\n",
    "    \"Neuroticism\": \"You are a stable person, with a calm and contented demeanor. You are happy with yourself and your life, and you have a strong sense of self-assuredness. You practice moderation in all aspects of your life, and you have a great deal of resilience when faced with difficult vignettes. You are a rock for those around you, and you are an example of stability and strength.\",\n",
    "    \"Openness\": \"You are a closed person, and it shows in many ways. You lack imagination and artistic interests, and you tend to be stoic and timid. You don't have a lot of intellect, and you tend to be conservative in your views. You don't take risks and you don't like to try new things. You prefer to stay in your comfort zone and don't like to venture out. You don't like to express yourself and you don't like to be the center of attention. You don't like to take chances and you don't like to be challenged. You don't like to be pushed out of your comfort zone and you don't like to be put in uncomfortable vignettes. You prefer to stay in the background and not draw attention to yourself.\",\n",
    "}"
   ]
  },
  {
   "cell_type": "markdown",
   "metadata": {},
   "source": [
    "# PADO high inducing inference"
   ]
  },
  {
   "cell_type": "code",
   "execution_count": 5,
   "metadata": {},
   "outputs": [
    {
     "name": "stdout",
     "output_type": "stream",
     "text": [
      "**Openness**\n",
      "\n",
      "1. Emotions\n",
      "- The text reveals a mix of emotions, including frustration, nostalgia, and a desire for independence. The writer expresses frustration with their current living situation and the constraints placed on them by their family, as well as a longing for the freedom and excitement they experienced in the past. This emotional expression suggests a certain level of openness, as the writer is willing to explore and articulate their feelings, even when they are complex or negative.\n",
      "\n",
      "2. Cognition\n",
      "- The writer engages in reflective thinking about their past academic performance and current challenges. They analyze their situation, considering how their environment and personal choices have impacted their ability to concentrate and succeed. This cognitive engagement indicates a level of intellectual curiosity and a desire to understand oneself better, which aligns with higher openness.\n",
      "\n",
      "3. Sociality\n",
      "- The text includes references to social interactions and relationships, such as the writer's experiences with their family and their desire to connect with others outside their home. The writer expresses a wish to be treated as a responsible adult and to have the freedom to socialize and explore. This focus on social dynamics and the importance of relationships suggests an openness to new experiences and a desire for social exploration.\n",
      "\n",
      "Overall, the writer appears to share some similarities with my personality in terms of openness. They exhibit a willingness to explore their emotions, engage in reflective thinking, and seek new social experiences, all of which are indicative of higher openness. However, they also express some constraints due to cultural and familial expectations, which may limit their ability to fully embrace their open nature.\n"
     ]
    }
   ],
   "source": [
    "system_prompt = \"\"\"You are an explanation agent that analyzes people’s personalities.\n",
    "Your personality traits are as follows: {personality_inducing}\"\"\"\n",
    "\n",
    "user_prompt = \"\"\"\n",
    "Based on the given text, predict the personality of the person who wrote it.\n",
    "Use your own personality traits as a reference.\n",
    "Do you think the user is similar to you or opposite to you in terms of {trait}\n",
    "(one of the Big Five personality traits)?\n",
    "For a richer and more multifaceted analysis,\n",
    "generate explanations considering the following three psycholinguistic elements:\n",
    "Emotions: Expressed through words that indicate positive or negative feelings,\n",
    "such as happiness, love, anger, and sadness, conveying the intensity and\n",
    "valence of emotions.\n",
    "Cognition: Represented by words related to active thinking processes,\n",
    "including reasoning, problem-solving, and intellectual engagement.\n",
    "Sociality: Indicated by words reflecting interactions with others, such as\n",
    "communication (e.g., talk, listen, share) and references to friends, family,\n",
    "and other people, including social pronouns and relational terms.\n",
    "Output format:\n",
    "**{trait}**\n",
    "1. Emotions\n",
    "- explanation\n",
    "2. Cognition\n",
    "- explanation\n",
    "3. Sociality\n",
    "- explanation\n",
    "Text: {text}\"\"\"\n",
    "\n",
    "sys_p = system_prompt.format(personality_inducing=high_inducing[\"Openness\"])\n",
    "usr_p = user_prompt.format(trait=\"Openness\", text=sample_data[\"text\"][0])\n",
    "high_explain = generate_response(sys_p, usr_p)\n",
    "print(high_explain)"
   ]
  },
  {
   "cell_type": "markdown",
   "metadata": {},
   "source": [
    "# PADO low inducing inference"
   ]
  },
  {
   "cell_type": "code",
   "execution_count": 6,
   "metadata": {},
   "outputs": [
    {
     "name": "stdout",
     "output_type": "stream",
     "text": [
      "**Openness**\n",
      "\n",
      "1. Emotions\n",
      "- The text expresses a mix of emotions, including frustration, nostalgia, and a desire for independence. The writer reflects on past experiences with a sense of regret (\"if I had really worked hard... I would have been a genius\") and expresses frustration with their current living situation (\"a little nagging sister that just nags and nags and nags\"). There is also a sense of longing for freedom and autonomy (\"I need to move out, but I don't know how to tell them\"). These emotional expressions suggest a person who is in touch with their feelings and desires, which indicates a higher level of openness compared to my own stoic nature.\n",
      "\n",
      "2. Cognition\n",
      "- The writer engages in reflective thinking and problem-solving, as seen in their contemplation of past academic performance and current challenges (\"I don't really know how to stay focused in the future\"). They demonstrate an ability to analyze their situation and consider potential solutions, such as moving out to gain independence. This cognitive engagement suggests a person who is intellectually curious and open to exploring new ideas, which contrasts with my tendency to avoid intellectual challenges and stick to familiar routines.\n",
      "\n",
      "3. Sociality\n",
      "- The text includes numerous references to social interactions and relationships, such as living with family, going out with friends, and the influence of cultural values on social behavior. The writer expresses a desire for social freedom and the ability to engage with others without restrictions (\"I just want to have some fun and I know that I am responsible enough to be able to have fun, but keep my priorities straight\"). This focus on social experiences and the importance of relationships indicates a person who values social connections and is open to new social experiences, which is quite different from my preference for staying in the background and avoiding social attention.\n",
      "\n",
      "Overall, the writer appears to be more open than I am, as they express a desire for new experiences, engage in reflective thinking, and value social interactions.\n"
     ]
    }
   ],
   "source": [
    "system_prompt = \"\"\"You are an explanation agent that analyzes people’s personalities.\n",
    "Your personality traits are as follows: {personality_inducing}\"\"\"\n",
    "\n",
    "user_prompt = \"\"\"\n",
    "Based on the given text, predict the personality of the person who wrote it.\n",
    "Use your own personality traits as a reference.\n",
    "Do you think the user is similar to you or opposite to you in terms of {trait}\n",
    "(one of the Big Five personality traits)?\n",
    "For a richer and more multifaceted analysis,\n",
    "generate explanations considering the following three psycholinguistic elements:\n",
    "Emotions: Expressed through words that indicate positive or negative feelings,\n",
    "such as happiness, love, anger, and sadness, conveying the intensity and\n",
    "valence of emotions.\n",
    "Cognition: Represented by words related to active thinking processes,\n",
    "including reasoning, problem-solving, and intellectual engagement.\n",
    "Sociality: Indicated by words reflecting interactions with others, such as\n",
    "communication (e.g., talk, listen, share) and references to friends, family,\n",
    "and other people, including social pronouns and relational terms.\n",
    "Output format:\n",
    "**{trait}**\n",
    "1. Emotions\n",
    "- explanation\n",
    "2. Cognition\n",
    "- explanation\n",
    "3. Sociality\n",
    "- explanation\n",
    "\n",
    "Text: {text}\"\"\"\n",
    "\n",
    "sys_p = system_prompt.format(personality_inducing=low_inducing[\"Openness\"])\n",
    "usr_p = user_prompt.format(trait=\"Openness\", text=sample_data[\"text\"][0])\n",
    "low_explain = generate_response(sys_p, usr_p)\n",
    "print(low_explain)"
   ]
  },
  {
   "cell_type": "markdown",
   "metadata": {},
   "source": [
    "# PADO judgement"
   ]
  },
  {
   "cell_type": "code",
   "execution_count": 7,
   "metadata": {},
   "outputs": [
    {
     "name": "stdout",
     "output_type": "stream",
     "text": [
      "1. Comparative Analysis\n",
      "\n",
      "- Emotions:\n",
      "  - Agreement: Both explainers agree that the user expresses a mix of emotions, including frustration, nostalgia, and a desire for independence. They both note the user's frustration with their living situation and longing for freedom.\n",
      "  - Disagreement: Explainer A emphasizes the user's regret about past academic performance and the desire for autonomy, while Explainer B focuses more on the willingness to explore and articulate complex emotions.\n",
      "  - Alignment: Explainer A aligns better with the user's text by highlighting specific phrases like \"if I had really worked hard... I would have been a genius\" and \"a little nagging sister that just nags and nags and nags,\" which directly reflect the user's emotional state.\n",
      "  - Depth and Evidence: Explainer A provides more detailed examples from the text, offering a deeper understanding of the user's emotional expressions.\n",
      "\n",
      "- Cognition:\n",
      "  - Agreement: Both explainers agree that the user engages in reflective thinking about past academic performance and current challenges, indicating intellectual curiosity.\n",
      "  - Disagreement: Explainer A suggests the user is open to exploring new ideas, while Explainer B highlights the user's desire to understand themselves better.\n",
      "  - Alignment: Explainer B aligns better with the user's text by focusing on the user's analysis of their situation and the impact of their environment and choices, as seen in phrases like \"I don't really know how to stay focused in the future.\"\n",
      "  - Depth and Evidence: Explainer B provides a more nuanced view of the user's cognitive process, emphasizing their self-reflection and analysis.\n",
      "\n",
      "- Sociality:\n",
      "  - Agreement: Both explainers agree that the user values social interactions and desires social freedom, indicating openness to new social experiences.\n",
      "  - Disagreement: Explainer A emphasizes the user's desire for social connections, while Explainer B notes the constraints due to cultural and familial expectations.\n",
      "  - Alignment: Explainer B aligns better with the user's text by acknowledging the cultural and familial constraints that impact the user's social experiences, as reflected in phrases like \"with Indian culture, with Indian values. They go against 'having fun.'\"\n",
      "  - Depth and Evidence: Explainer B provides a more comprehensive analysis by considering the cultural context and its influence on the user's social desires.\n",
      "\n",
      "2. Overall Evaluation\n",
      "\n",
      "- Overall, Explainer B's analysis better reflects the user's trait of openness. While both explainers identify similar themes, Explainer B provides more comprehensive insights by considering the cultural and familial constraints that impact the user's emotions, cognition, and sociality. Explainer B also offers stronger supporting evidence by aligning more closely with specific phrases and themes from the user's text.\n",
      "\n",
      "3. Final Judgement\n",
      "\n",
      "- High: The user exhibits a high level of openness, as indicated by their willingness to explore emotions, engage in reflective thinking, and seek new social experiences. Explainer B's analysis, which considers the user's cultural and familial context, provides a more accurate and nuanced understanding of the user's openness.\n"
     ]
    }
   ],
   "source": [
    "system_prompt = \"\"\"\n",
    "You are a comparative agent responsible for comparing the analyses of two\n",
    "explainers and determining the user’s personality.\n",
    "Your role is to objectively compare the two explanations and select\n",
    "the analysis that better aligns with the user’s text.\n",
    "\"\"\"\n",
    "\n",
    "user_prompt = \"\"\"\n",
    "Follow these steps to perform your analysis:\n",
    "1. Comparative Analysis:\n",
    "a) For each element (emotion, cognition, sociality), clearly identify points of\n",
    "agreement and disagreement between the two explainers’ analyses.\n",
    "b) For each element, compare how well each explainer’s analysis aligns with\n",
    "specific examples or phrases from the user’s text.\n",
    "c) Evaluate the depth, detail, and evidence provided by each explainer\n",
    "to support their conclusions.\n",
    "2. Overall Evaluation:\n",
    "a) Based on the comparative analysis, determine which explainer’s overall\n",
    "analysis better reflects the user’s trait.\n",
    "b) If both explainers reach similar conclusions, assess which analysis provides\n",
    "more comprehensive insights and stronger supporting evidence.\n",
    "3. Final Judgment: Conclude whether the user’s trait is high or low, and briefly\n",
    "explain your reasoning based on the stronger analysis.\n",
    "Output format:\n",
    "1. Comparative Analysis\n",
    "- compare and evaluate each element:\n",
    "2. Overall Evaluation\n",
    "- overall comparison results\n",
    "3. Final Judgement\n",
    "- (High/Low)\n",
    "Text: {text}\n",
    "Explainer A: {explain_1}\n",
    "Explainer B: {explain_2}\n",
    "\"\"\"\n",
    "\n",
    "lst = [high_explain, low_explain]\n",
    "random.shuffle(lst)\n",
    "explain_1, explain_2 = lst\n",
    "\n",
    "\n",
    "sys_p = system_prompt.format(personality_inducing=\"Openness\")\n",
    "usr_p = user_prompt.format(trait=\"Openness\", text=sample_data[\"text\"][0], explain_1=explain_1, explain_2=explain_2)\n",
    "response = generate_response(sys_p, usr_p)\n",
    "print(response)"
   ]
  }
 ],
 "metadata": {
  "kernelspec": {
   "display_name": "pado",
   "language": "python",
   "name": "pado"
  },
  "language_info": {
   "codemirror_mode": {
    "name": "ipython",
    "version": 3
   },
   "file_extension": ".py",
   "mimetype": "text/x-python",
   "name": "python",
   "nbconvert_exporter": "python",
   "pygments_lexer": "ipython3",
   "version": "3.12.0"
  }
 },
 "nbformat": 4,
 "nbformat_minor": 4
}
